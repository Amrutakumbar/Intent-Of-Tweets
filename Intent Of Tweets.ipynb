{
 "cells": [
  {
   "cell_type": "markdown",
   "id": "99627021",
   "metadata": {},
   "source": [
    "# Import The Libraries"
   ]
  },
  {
   "cell_type": "code",
   "execution_count": 1,
   "id": "5c5568cd",
   "metadata": {},
   "outputs": [
    {
     "name": "stderr",
     "output_type": "stream",
     "text": [
      "[nltk_data] Downloading package stopwords to\n",
      "[nltk_data]     C:\\Users\\DELL\\AppData\\Roaming\\nltk_data...\n",
      "[nltk_data]   Package stopwords is already up-to-date!\n"
     ]
    }
   ],
   "source": [
    "import numpy as np\n",
    "import pandas as pd\n",
    "import matplotlib.pyplot as plt\n",
    "import seaborn as sns\n",
    "import re\n",
    "import nltk \n",
    "nltk.download('stopwords')\n",
    "from nltk.corpus import stopwords\n",
    "from nltk.tokenize import word_tokenize\n",
    "import string\n",
    "from sklearn.model_selection import train_test_split\n",
    "from sklearn.preprocessing import LabelEncoder"
   ]
  },
  {
   "cell_type": "markdown",
   "id": "01a33960",
   "metadata": {},
   "source": [
    "# Load The Text"
   ]
  },
  {
   "cell_type": "code",
   "execution_count": 2,
   "id": "3b7c286f",
   "metadata": {},
   "outputs": [
    {
     "data": {
      "text/html": [
       "<div>\n",
       "<style scoped>\n",
       "    .dataframe tbody tr th:only-of-type {\n",
       "        vertical-align: middle;\n",
       "    }\n",
       "\n",
       "    .dataframe tbody tr th {\n",
       "        vertical-align: top;\n",
       "    }\n",
       "\n",
       "    .dataframe thead th {\n",
       "        text-align: right;\n",
       "    }\n",
       "</style>\n",
       "<table border=\"1\" class=\"dataframe\">\n",
       "  <thead>\n",
       "    <tr style=\"text-align: right;\">\n",
       "      <th></th>\n",
       "      <th>id</th>\n",
       "      <th>tweet_text</th>\n",
       "      <th>tweet_created_at</th>\n",
       "      <th>tweet_intent</th>\n",
       "    </tr>\n",
       "  </thead>\n",
       "  <tbody>\n",
       "    <tr>\n",
       "      <th>0</th>\n",
       "      <td>1212762</td>\n",
       "      <td>@crypto_brody @eCoLoGy1990 @MoonrunnersNFT @It...</td>\n",
       "      <td>2022-08-06T16:56:36.000Z</td>\n",
       "      <td>Community</td>\n",
       "    </tr>\n",
       "    <tr>\n",
       "      <th>1</th>\n",
       "      <td>1212763</td>\n",
       "      <td>Need Sick Character artâ“#art #artist #Artist...</td>\n",
       "      <td>2022-08-06T16:56:36.000Z</td>\n",
       "      <td>Giveaway</td>\n",
       "    </tr>\n",
       "    <tr>\n",
       "      <th>2</th>\n",
       "      <td>1212765</td>\n",
       "      <td>@The_Hulk_NFT @INagotchiNFT @Tesla @killabears...</td>\n",
       "      <td>2022-08-06T16:56:35.000Z</td>\n",
       "      <td>Appreciation</td>\n",
       "    </tr>\n",
       "    <tr>\n",
       "      <th>3</th>\n",
       "      <td>1212766</td>\n",
       "      <td>@CryptoBatzNFT @DarekBTW The first project in ...</td>\n",
       "      <td>2022-08-06T16:56:35.000Z</td>\n",
       "      <td>Community</td>\n",
       "    </tr>\n",
       "    <tr>\n",
       "      <th>4</th>\n",
       "      <td>1212767</td>\n",
       "      <td>@sashadysonn The first project in crypto with ...</td>\n",
       "      <td>2022-08-06T16:56:34.000Z</td>\n",
       "      <td>Community</td>\n",
       "    </tr>\n",
       "  </tbody>\n",
       "</table>\n",
       "</div>"
      ],
      "text/plain": [
       "        id                                         tweet_text  \\\n",
       "0  1212762  @crypto_brody @eCoLoGy1990 @MoonrunnersNFT @It...   \n",
       "1  1212763  Need Sick Character artâ“#art #artist #Artist...   \n",
       "2  1212765  @The_Hulk_NFT @INagotchiNFT @Tesla @killabears...   \n",
       "3  1212766  @CryptoBatzNFT @DarekBTW The first project in ...   \n",
       "4  1212767  @sashadysonn The first project in crypto with ...   \n",
       "\n",
       "           tweet_created_at  tweet_intent  \n",
       "0  2022-08-06T16:56:36.000Z     Community  \n",
       "1  2022-08-06T16:56:36.000Z      Giveaway  \n",
       "2  2022-08-06T16:56:35.000Z  Appreciation  \n",
       "3  2022-08-06T16:56:35.000Z     Community  \n",
       "4  2022-08-06T16:56:34.000Z     Community  "
      ]
     },
     "execution_count": 2,
     "metadata": {},
     "output_type": "execute_result"
    }
   ],
   "source": [
    "tweet=pd.read_csv('tweet.csv')\n",
    "tweet.head()"
   ]
  },
  {
   "cell_type": "code",
   "execution_count": 3,
   "id": "87d05343",
   "metadata": {},
   "outputs": [
    {
     "data": {
      "text/html": [
       "<div>\n",
       "<style scoped>\n",
       "    .dataframe tbody tr th:only-of-type {\n",
       "        vertical-align: middle;\n",
       "    }\n",
       "\n",
       "    .dataframe tbody tr th {\n",
       "        vertical-align: top;\n",
       "    }\n",
       "\n",
       "    .dataframe thead th {\n",
       "        text-align: right;\n",
       "    }\n",
       "</style>\n",
       "<table border=\"1\" class=\"dataframe\">\n",
       "  <thead>\n",
       "    <tr style=\"text-align: right;\">\n",
       "      <th></th>\n",
       "      <th>id</th>\n",
       "      <th>tweet_text</th>\n",
       "      <th>tweet_created_at</th>\n",
       "      <th>tweet_intent</th>\n",
       "    </tr>\n",
       "  </thead>\n",
       "  <tbody>\n",
       "    <tr>\n",
       "      <th>127448</th>\n",
       "      <td>1278721</td>\n",
       "      <td>@Jason My company Universe is solving this, an...</td>\n",
       "      <td>2022-08-08T03:32:01.000Z</td>\n",
       "      <td>NaN</td>\n",
       "    </tr>\n",
       "    <tr>\n",
       "      <th>127449</th>\n",
       "      <td>1278723</td>\n",
       "      <td>@BosoTokyo Many will get rekt in this NFT</td>\n",
       "      <td>2022-08-08T03:32:00.000Z</td>\n",
       "      <td>NaN</td>\n",
       "    </tr>\n",
       "    <tr>\n",
       "      <th>127450</th>\n",
       "      <td>1278724</td>\n",
       "      <td>@leeneedham81 @KibaInuWorld @HODL_OFFICIAL @Ko...</td>\n",
       "      <td>2022-08-08T03:32:00.000Z</td>\n",
       "      <td>NaN</td>\n",
       "    </tr>\n",
       "    <tr>\n",
       "      <th>127451</th>\n",
       "      <td>1278725</td>\n",
       "      <td>@1kz3ro @UNLEASHED_NFT I love this job</td>\n",
       "      <td>2022-08-08T03:31:59.000Z</td>\n",
       "      <td>NaN</td>\n",
       "    </tr>\n",
       "    <tr>\n",
       "      <th>127452</th>\n",
       "      <td>1278729</td>\n",
       "      <td>@Shill_Ronin @UNLEASHED_NFT my proof https://t...</td>\n",
       "      <td>2022-08-08T03:31:58.000Z</td>\n",
       "      <td>NaN</td>\n",
       "    </tr>\n",
       "  </tbody>\n",
       "</table>\n",
       "</div>"
      ],
      "text/plain": [
       "             id                                         tweet_text  \\\n",
       "127448  1278721  @Jason My company Universe is solving this, an...   \n",
       "127449  1278723          @BosoTokyo Many will get rekt in this NFT   \n",
       "127450  1278724  @leeneedham81 @KibaInuWorld @HODL_OFFICIAL @Ko...   \n",
       "127451  1278725             @1kz3ro @UNLEASHED_NFT I love this job   \n",
       "127452  1278729  @Shill_Ronin @UNLEASHED_NFT my proof https://t...   \n",
       "\n",
       "                tweet_created_at tweet_intent  \n",
       "127448  2022-08-08T03:32:01.000Z          NaN  \n",
       "127449  2022-08-08T03:32:00.000Z          NaN  \n",
       "127450  2022-08-08T03:32:00.000Z          NaN  \n",
       "127451  2022-08-08T03:31:59.000Z          NaN  \n",
       "127452  2022-08-08T03:31:58.000Z          NaN  "
      ]
     },
     "execution_count": 3,
     "metadata": {},
     "output_type": "execute_result"
    }
   ],
   "source": [
    "tweet.tail(5)"
   ]
  },
  {
   "cell_type": "markdown",
   "id": "e6604090",
   "metadata": {},
   "source": [
    "# Text Cleaning"
   ]
  },
  {
   "cell_type": "code",
   "execution_count": 4,
   "id": "94636419",
   "metadata": {},
   "outputs": [
    {
     "name": "stdout",
     "output_type": "stream",
     "text": [
      "<class 'pandas.core.frame.DataFrame'>\n",
      "RangeIndex: 127453 entries, 0 to 127452\n",
      "Data columns (total 4 columns):\n",
      " #   Column            Non-Null Count   Dtype \n",
      "---  ------            --------------   ----- \n",
      " 0   id                127453 non-null  int64 \n",
      " 1   tweet_text        127453 non-null  object\n",
      " 2   tweet_created_at  127453 non-null  object\n",
      " 3   tweet_intent      96364 non-null   object\n",
      "dtypes: int64(1), object(3)\n",
      "memory usage: 3.9+ MB\n"
     ]
    }
   ],
   "source": [
    "tweet.info()"
   ]
  },
  {
   "cell_type": "code",
   "execution_count": 5,
   "id": "3f56ad66",
   "metadata": {},
   "outputs": [
    {
     "data": {
      "text/plain": [
       "array(['Community', 'Giveaway', 'Appreciation', 'Presale', 'Whitelist',\n",
       "       'pinksale', 'Done', 'Interested', 'Launching Soon', nan],\n",
       "      dtype=object)"
      ]
     },
     "execution_count": 5,
     "metadata": {},
     "output_type": "execute_result"
    }
   ],
   "source": [
    "tweet['tweet_intent'].unique()"
   ]
  },
  {
   "cell_type": "markdown",
   "id": "82e4cc06",
   "metadata": {},
   "source": [
    "##### Missing values"
   ]
  },
  {
   "cell_type": "code",
   "execution_count": 6,
   "id": "af45a53f",
   "metadata": {},
   "outputs": [
    {
     "data": {
      "text/plain": [
       "31089"
      ]
     },
     "execution_count": 6,
     "metadata": {},
     "output_type": "execute_result"
    }
   ],
   "source": [
    "tweet['tweet_intent'].isnull().sum()"
   ]
  },
  {
   "cell_type": "code",
   "execution_count": 7,
   "id": "2dbd1d7e",
   "metadata": {},
   "outputs": [
    {
     "name": "stdout",
     "output_type": "stream",
     "text": [
      "PERCENTAGE OF MISSING VALUES\n"
     ]
    },
    {
     "data": {
      "text/plain": [
       "24.392521164664622"
      ]
     },
     "execution_count": 7,
     "metadata": {},
     "output_type": "execute_result"
    }
   ],
   "source": [
    "#% of null values\n",
    "tweet_intent_percentage=print('percentage of missing values'.upper())\n",
    "tweet['tweet_intent'].isna().sum()/tweet['tweet_intent'].shape[0]*100"
   ]
  },
  {
   "cell_type": "markdown",
   "id": "ee6b91f7",
   "metadata": {},
   "source": [
    "##### Duplicates"
   ]
  },
  {
   "cell_type": "code",
   "execution_count": 8,
   "id": "f189584d",
   "metadata": {},
   "outputs": [
    {
     "data": {
      "text/plain": [
       "0"
      ]
     },
     "execution_count": 8,
     "metadata": {},
     "output_type": "execute_result"
    }
   ],
   "source": [
    "# Check duplicates in a data frame\n",
    "tweet.duplicated().sum()"
   ]
  },
  {
   "cell_type": "markdown",
   "id": "beebd310",
   "metadata": {},
   "source": [
    "##### Value Counts"
   ]
  },
  {
   "cell_type": "code",
   "execution_count": 9,
   "id": "81b7b82c",
   "metadata": {},
   "outputs": [
    {
     "data": {
      "text/plain": [
       "Community         41510\n",
       "Giveaway          21041\n",
       "Appreciation      16451\n",
       "Whitelist          8320\n",
       "Presale            5107\n",
       "Done               3049\n",
       "pinksale            477\n",
       "Interested          276\n",
       "Launching Soon      133\n",
       "Name: tweet_intent, dtype: int64"
      ]
     },
     "execution_count": 9,
     "metadata": {},
     "output_type": "execute_result"
    }
   ],
   "source": [
    "tweet['tweet_intent'].value_counts()"
   ]
  },
  {
   "cell_type": "markdown",
   "id": "6a56af5d",
   "metadata": {},
   "source": [
    "##### Drop Columns"
   ]
  },
  {
   "cell_type": "code",
   "execution_count": 10,
   "id": "76b482a5",
   "metadata": {},
   "outputs": [
    {
     "data": {
      "text/html": [
       "<div>\n",
       "<style scoped>\n",
       "    .dataframe tbody tr th:only-of-type {\n",
       "        vertical-align: middle;\n",
       "    }\n",
       "\n",
       "    .dataframe tbody tr th {\n",
       "        vertical-align: top;\n",
       "    }\n",
       "\n",
       "    .dataframe thead th {\n",
       "        text-align: right;\n",
       "    }\n",
       "</style>\n",
       "<table border=\"1\" class=\"dataframe\">\n",
       "  <thead>\n",
       "    <tr style=\"text-align: right;\">\n",
       "      <th></th>\n",
       "      <th>tweet_text</th>\n",
       "      <th>tweet_intent</th>\n",
       "    </tr>\n",
       "  </thead>\n",
       "  <tbody>\n",
       "    <tr>\n",
       "      <th>0</th>\n",
       "      <td>@crypto_brody @eCoLoGy1990 @MoonrunnersNFT @It...</td>\n",
       "      <td>Community</td>\n",
       "    </tr>\n",
       "    <tr>\n",
       "      <th>1</th>\n",
       "      <td>Need Sick Character artâ“#art #artist #Artist...</td>\n",
       "      <td>Giveaway</td>\n",
       "    </tr>\n",
       "    <tr>\n",
       "      <th>2</th>\n",
       "      <td>@The_Hulk_NFT @INagotchiNFT @Tesla @killabears...</td>\n",
       "      <td>Appreciation</td>\n",
       "    </tr>\n",
       "    <tr>\n",
       "      <th>3</th>\n",
       "      <td>@CryptoBatzNFT @DarekBTW The first project in ...</td>\n",
       "      <td>Community</td>\n",
       "    </tr>\n",
       "    <tr>\n",
       "      <th>4</th>\n",
       "      <td>@sashadysonn The first project in crypto with ...</td>\n",
       "      <td>Community</td>\n",
       "    </tr>\n",
       "  </tbody>\n",
       "</table>\n",
       "</div>"
      ],
      "text/plain": [
       "                                          tweet_text  tweet_intent\n",
       "0  @crypto_brody @eCoLoGy1990 @MoonrunnersNFT @It...     Community\n",
       "1  Need Sick Character artâ“#art #artist #Artist...      Giveaway\n",
       "2  @The_Hulk_NFT @INagotchiNFT @Tesla @killabears...  Appreciation\n",
       "3  @CryptoBatzNFT @DarekBTW The first project in ...     Community\n",
       "4  @sashadysonn The first project in crypto with ...     Community"
      ]
     },
     "execution_count": 10,
     "metadata": {},
     "output_type": "execute_result"
    }
   ],
   "source": [
    "tweet.drop(['id','tweet_created_at'],axis=1,inplace=True)\n",
    "tweet.head()"
   ]
  },
  {
   "cell_type": "markdown",
   "id": "8838708a",
   "metadata": {},
   "source": [
    "##### Summary\n",
    "\n",
    "1)Atleast 24% means 31089 rows are missing in tweet intents column.\n",
    "\n",
    "2)No duplicates are present.\n",
    "\n",
    "3)tweet intent attribute has 9 classes.\n",
    "\n",
    "4)Dropped id and tweet_created_at as no use of it."
   ]
  },
  {
   "cell_type": "markdown",
   "id": "71dd038a",
   "metadata": {},
   "source": [
    "# Text Pre-processing"
   ]
  },
  {
   "cell_type": "code",
   "execution_count": 11,
   "id": "0fd2af6b",
   "metadata": {},
   "outputs": [
    {
     "name": "stderr",
     "output_type": "stream",
     "text": [
      "C:\\Users\\DELL\\anaconda3\\anaconda nevigator\\lib\\site-packages\\seaborn\\_decorators.py:36: FutureWarning: Pass the following variable as a keyword arg: x. From version 0.12, the only valid positional argument will be `data`, and passing other arguments without an explicit keyword will result in an error or misinterpretation.\n",
      "  warnings.warn(\n"
     ]
    },
    {
     "data": {
      "image/png": "[encoded data removed]",
      "text/plain": [
       "<Figure size 1080x648 with 1 Axes>"
      ]
     },
     "metadata": {
      "needs_background": "light"
     },
     "output_type": "display_data"
    }
   ],
   "source": [
    "# Plot category data\n",
    "plt.figure(figsize=(15,9))\n",
    "sns.countplot(tweet.tweet_intent)\n",
    "plt.show()"
   ]
  },
  {
   "cell_type": "markdown",
   "id": "df514263",
   "metadata": {},
   "source": [
    "+ Using countplot plotted intent of tweets which has 9 classes where community has more rate followed by giveaway, appreciation etc"
   ]
  },
  {
   "cell_type": "code",
   "execution_count": 12,
   "id": "5def4389",
   "metadata": {},
   "outputs": [
    {
     "data": {
      "image/png": "[encoded data removed]",
      "text/plain": [
       "<Figure size 1800x648 with 1 Axes>"
      ]
     },
     "metadata": {},
     "output_type": "display_data"
    }
   ],
   "source": [
    "tweet_intent = tweet['tweet_intent'].shape[0]\n",
    "Community= tweet[tweet.tweet_intent == 'Community'].shape[0]\n",
    "Giveaway= tweet[tweet.tweet_intent == 'Giveaway'].shape[0]\n",
    "Appreciation= tweet[tweet.tweet_intent == 'Appreciation'].shape[0]\n",
    "Presale= tweet[tweet.tweet_intent == 'Presale'].shape[0]\n",
    "Whitelist= tweet[tweet.tweet_intent == 'Whitelist'].shape[0]\n",
    "pinksale= tweet[tweet.tweet_intent == 'pinksale'].shape[0]\n",
    "Done= tweet[tweet.tweet_intent == 'Done'].shape[0]\n",
    "Interested= tweet[tweet.tweet_intent == 'Interested'].shape[0]\n",
    "Launching_Soon= tweet[tweet.tweet_intent == 'Launching Soon'].shape[0]\n",
    "\n",
    "_ = tweet['tweet_intent'].value_counts().plot(kind = 'pie', autopct = '%.0f%%', labels = ['Community', 'Giveaway', 'Appreciation', 'Presale', 'Whitelist','pinksale', 'Done', 'Interested', 'Launching Soon'], figsize = (25, 9))"
   ]
  },
  {
   "cell_type": "markdown",
   "id": "d3ed8537",
   "metadata": {},
   "source": [
    "+ To check more in percentage, Used Pie Chart"
   ]
  },
  {
   "cell_type": "markdown",
   "id": "b97c449f",
   "metadata": {},
   "source": [
    "1) 43% of tweet about community\n",
    "2) 22% of Giveaway\n",
    "3) 17% of Appreciation\n",
    "4) 9% of Presale \n",
    "5) 5% of whitelist\n",
    "6) 3% of pinksale"
   ]
  },
  {
   "cell_type": "markdown",
   "id": "8902229c",
   "metadata": {},
   "source": [
    "#####  Punctuations and Stopwords remove."
   ]
  },
  {
   "cell_type": "markdown",
   "id": "e9597386",
   "metadata": {},
   "source": [
    "+ Now, let's get rid of the stopwords i.e words which occur very frequently but have no possible value like a, an, the, are etc"
   ]
  },
  {
   "cell_type": "code",
   "execution_count": 13,
   "id": "3e947f48",
   "metadata": {},
   "outputs": [
    {
     "data": {
      "text/plain": [
       "0    @crypto_brody @eCoLoGy1990 @MoonrunnersNFT @It...\n",
       "1    Need Sick Character artâ“#art #artist #Artist...\n",
       "2    @The_Hulk_NFT @INagotchiNFT @Tesla @killabears...\n",
       "3    @CryptoBatzNFT @DarekBTW The first project in ...\n",
       "4    @sashadysonn The first project in crypto with ...\n",
       "Name: tweet_text, dtype: object"
      ]
     },
     "execution_count": 13,
     "metadata": {},
     "output_type": "execute_result"
    }
   ],
   "source": [
    "tweet['tweet_text'][:5]"
   ]
  },
  {
   "cell_type": "code",
   "execution_count": 14,
   "id": "eecc9457",
   "metadata": {},
   "outputs": [],
   "source": [
    "STOPWORDS=set(stopwords.words('english'))"
   ]
  },
  {
   "cell_type": "code",
   "execution_count": 15,
   "id": "75798afe",
   "metadata": {},
   "outputs": [
    {
     "data": {
      "text/html": [
       "<div>\n",
       "<style scoped>\n",
       "    .dataframe tbody tr th:only-of-type {\n",
       "        vertical-align: middle;\n",
       "    }\n",
       "\n",
       "    .dataframe tbody tr th {\n",
       "        vertical-align: top;\n",
       "    }\n",
       "\n",
       "    .dataframe thead th {\n",
       "        text-align: right;\n",
       "    }\n",
       "</style>\n",
       "<table border=\"1\" class=\"dataframe\">\n",
       "  <thead>\n",
       "    <tr style=\"text-align: right;\">\n",
       "      <th></th>\n",
       "      <th>tweet_text</th>\n",
       "      <th>tweet_intent</th>\n",
       "    </tr>\n",
       "  </thead>\n",
       "  <tbody>\n",
       "    <tr>\n",
       "      <th>0</th>\n",
       "      <td>cryptobrody moonrunnersnft itsukinft thelittle...</td>\n",
       "      <td>Community</td>\n",
       "    </tr>\n",
       "    <tr>\n",
       "      <th>1</th>\n",
       "      <td>need sick character artâ“art artist artists a...</td>\n",
       "      <td>Giveaway</td>\n",
       "    </tr>\n",
       "    <tr>\n",
       "      <th>2</th>\n",
       "      <td>thehulknft inagotchinft tesla killabearsnft el...</td>\n",
       "      <td>Appreciation</td>\n",
       "    </tr>\n",
       "    <tr>\n",
       "      <th>3</th>\n",
       "      <td>cryptobatznft darekbtw first project crypto mo...</td>\n",
       "      <td>Community</td>\n",
       "    </tr>\n",
       "    <tr>\n",
       "      <th>4</th>\n",
       "      <td>sashadysonn first project crypto move earn ast...</td>\n",
       "      <td>Community</td>\n",
       "    </tr>\n",
       "  </tbody>\n",
       "</table>\n",
       "</div>"
      ],
      "text/plain": [
       "                                          tweet_text  tweet_intent\n",
       "0  cryptobrody moonrunnersnft itsukinft thelittle...     Community\n",
       "1  need sick character artâ“art artist artists a...      Giveaway\n",
       "2  thehulknft inagotchinft tesla killabearsnft el...  Appreciation\n",
       "3  cryptobatznft darekbtw first project crypto mo...     Community\n",
       "4  sashadysonn first project crypto move earn ast...     Community"
      ]
     },
     "execution_count": 15,
     "metadata": {},
     "output_type": "execute_result"
    }
   ],
   "source": [
    "# Applying a first round of text cleaning techniques\n",
    "\n",
    "def clean_text(tweet_text):\n",
    "    '''Make text lowercase, remove text in square brackets,remove links,remove punctuation\n",
    "    and remove words containing numbers.'''\n",
    "    text = tweet_text.lower()\n",
    "    text = re.sub('\\[.*?\\]', '', text)\n",
    "    text = re.sub('https?://\\S+|www\\.\\S+', '', text)\n",
    "    text = re.sub('<.*?>+', '', text)\n",
    "    text = re.sub('[%s]' % re.escape(string.punctuation), '', text)\n",
    "    text = re.sub('\\n', '', text)\n",
    "    text = re.sub('\\w*\\d\\w*', '', text)\n",
    "    text = ' '.join(word for word in text.split() if word not in STOPWORDS)\n",
    "    return text\n",
    "\n",
    "# Applying the cleaning function to both test and training datasets\n",
    "tweet['tweet_text'] = tweet['tweet_text'].apply(lambda x: clean_text(x))\n",
    "\n",
    "\n",
    "# Let's take a look at the updated text\n",
    "tweet.head()"
   ]
  },
  {
   "cell_type": "markdown",
   "id": "20b94199",
   "metadata": {},
   "source": [
    "##### Deal with Missing Values"
   ]
  },
  {
   "cell_type": "code",
   "execution_count": 16,
   "id": "8fd08cbf",
   "metadata": {},
   "outputs": [
    {
     "data": {
      "text/plain": [
       "(127453, 2)"
      ]
     },
     "execution_count": 16,
     "metadata": {},
     "output_type": "execute_result"
    }
   ],
   "source": [
    "tweet.shape"
   ]
  },
  {
   "cell_type": "code",
   "execution_count": 17,
   "id": "8ff44cfd",
   "metadata": {},
   "outputs": [
    {
     "data": {
      "text/html": [
       "<div>\n",
       "<style scoped>\n",
       "    .dataframe tbody tr th:only-of-type {\n",
       "        vertical-align: middle;\n",
       "    }\n",
       "\n",
       "    .dataframe tbody tr th {\n",
       "        vertical-align: top;\n",
       "    }\n",
       "\n",
       "    .dataframe thead th {\n",
       "        text-align: right;\n",
       "    }\n",
       "</style>\n",
       "<table border=\"1\" class=\"dataframe\">\n",
       "  <thead>\n",
       "    <tr style=\"text-align: right;\">\n",
       "      <th></th>\n",
       "      <th>tweet_text</th>\n",
       "      <th>tweet_intent</th>\n",
       "    </tr>\n",
       "  </thead>\n",
       "  <tbody>\n",
       "    <tr>\n",
       "      <th>96364</th>\n",
       "      <td>ðÿ§™â€â™‚ï¸ wizardia nfts game magicfilled m...</td>\n",
       "      <td>NaN</td>\n",
       "    </tr>\n",
       "    <tr>\n",
       "      <th>96365</th>\n",
       "      <td>daolm dont miss chance win nft worth simple st...</td>\n",
       "      <td>NaN</td>\n",
       "    </tr>\n",
       "    <tr>\n",
       "      <th>96366</th>\n",
       "      <td>zesty faucet bitcoiner making tweet claim free...</td>\n",
       "      <td>NaN</td>\n",
       "    </tr>\n",
       "    <tr>\n",
       "      <th>96367</th>\n",
       "      <td>ðÿ§™â€â™‚ï¸ wizardia nfts game magicfilled m...</td>\n",
       "      <td>NaN</td>\n",
       "    </tr>\n",
       "    <tr>\n",
       "      <th>96368</th>\n",
       "      <td>kavaboynft message letâ€™s talk marketing project</td>\n",
       "      <td>NaN</td>\n",
       "    </tr>\n",
       "  </tbody>\n",
       "</table>\n",
       "</div>"
      ],
      "text/plain": [
       "                                              tweet_text tweet_intent\n",
       "96364  ðÿ§™â€â™‚ï¸ wizardia nfts game magicfilled m...          NaN\n",
       "96365  daolm dont miss chance win nft worth simple st...          NaN\n",
       "96366  zesty faucet bitcoiner making tweet claim free...          NaN\n",
       "96367  ðÿ§™â€â™‚ï¸ wizardia nfts game magicfilled m...          NaN\n",
       "96368  kavaboynft message letâ€™s talk marketing project          NaN"
      ]
     },
     "execution_count": 17,
     "metadata": {},
     "output_type": "execute_result"
    }
   ],
   "source": [
    "tweet_missing=tweet[tweet['tweet_intent'].isnull()]\n",
    "tweet_missing.head()"
   ]
  },
  {
   "cell_type": "code",
   "execution_count": 18,
   "id": "feea366f",
   "metadata": {},
   "outputs": [
    {
     "data": {
      "text/html": [
       "<div>\n",
       "<style scoped>\n",
       "    .dataframe tbody tr th:only-of-type {\n",
       "        vertical-align: middle;\n",
       "    }\n",
       "\n",
       "    .dataframe tbody tr th {\n",
       "        vertical-align: top;\n",
       "    }\n",
       "\n",
       "    .dataframe thead th {\n",
       "        text-align: right;\n",
       "    }\n",
       "</style>\n",
       "<table border=\"1\" class=\"dataframe\">\n",
       "  <thead>\n",
       "    <tr style=\"text-align: right;\">\n",
       "      <th></th>\n",
       "      <th>tweet_text</th>\n",
       "      <th>tweet_intent</th>\n",
       "    </tr>\n",
       "  </thead>\n",
       "  <tbody>\n",
       "    <tr>\n",
       "      <th>0</th>\n",
       "      <td>cryptobrody moonrunnersnft itsukinft thelittle...</td>\n",
       "      <td>Community</td>\n",
       "    </tr>\n",
       "    <tr>\n",
       "      <th>1</th>\n",
       "      <td>need sick character artâ“art artist artists a...</td>\n",
       "      <td>Giveaway</td>\n",
       "    </tr>\n",
       "    <tr>\n",
       "      <th>2</th>\n",
       "      <td>thehulknft inagotchinft tesla killabearsnft el...</td>\n",
       "      <td>Appreciation</td>\n",
       "    </tr>\n",
       "    <tr>\n",
       "      <th>3</th>\n",
       "      <td>cryptobatznft darekbtw first project crypto mo...</td>\n",
       "      <td>Community</td>\n",
       "    </tr>\n",
       "    <tr>\n",
       "      <th>4</th>\n",
       "      <td>sashadysonn first project crypto move earn ast...</td>\n",
       "      <td>Community</td>\n",
       "    </tr>\n",
       "  </tbody>\n",
       "</table>\n",
       "</div>"
      ],
      "text/plain": [
       "                                          tweet_text  tweet_intent\n",
       "0  cryptobrody moonrunnersnft itsukinft thelittle...     Community\n",
       "1  need sick character artâ“art artist artists a...      Giveaway\n",
       "2  thehulknft inagotchinft tesla killabearsnft el...  Appreciation\n",
       "3  cryptobatznft darekbtw first project crypto mo...     Community\n",
       "4  sashadysonn first project crypto move earn ast...     Community"
      ]
     },
     "execution_count": 18,
     "metadata": {},
     "output_type": "execute_result"
    }
   ],
   "source": [
    "new_tweet=tweet.dropna()\n",
    "new_tweet.head()"
   ]
  },
  {
   "cell_type": "code",
   "execution_count": 19,
   "id": "3d4cfc9e",
   "metadata": {},
   "outputs": [
    {
     "data": {
      "text/plain": [
       "tweet_text      0\n",
       "tweet_intent    0\n",
       "dtype: int64"
      ]
     },
     "execution_count": 19,
     "metadata": {},
     "output_type": "execute_result"
    }
   ],
   "source": [
    "new_tweet.isnull().sum()"
   ]
  },
  {
   "cell_type": "code",
   "execution_count": 20,
   "id": "b3bc59de",
   "metadata": {},
   "outputs": [
    {
     "data": {
      "text/plain": [
       "(96364, 2)"
      ]
     },
     "execution_count": 20,
     "metadata": {},
     "output_type": "execute_result"
    }
   ],
   "source": [
    "new_tweet.shape"
   ]
  },
  {
   "cell_type": "markdown",
   "id": "b72eb169",
   "metadata": {},
   "source": [
    "#### Summary of text cleaning\n",
    "\n",
    "1)As any text data, tweets are quite unclean having punctuations, numbers and short cuts.So removed these punctuations.\n",
    "\n",
    "2)Removed stopwords like a, an, the, which are not giving any useful meaning to it.\n",
    "\n",
    "3)Dropped missing values,later will use it for prediction"
   ]
  },
  {
   "cell_type": "markdown",
   "id": "b2369f0a",
   "metadata": {},
   "source": [
    "### Train Test split"
   ]
  },
  {
   "cell_type": "markdown",
   "id": "58879d4c",
   "metadata": {},
   "source": [
    "+ Splitting data on new data without missing values"
   ]
  },
  {
   "cell_type": "code",
   "execution_count": 21,
   "id": "3759a19d",
   "metadata": {},
   "outputs": [
    {
     "name": "stdout",
     "output_type": "stream",
     "text": [
      "(96364,)\n",
      "(96364,)\n"
     ]
    }
   ],
   "source": [
    "X = new_tweet.tweet_text.values\n",
    "y = new_tweet.tweet_intent\n",
    "print(X.shape)\n",
    "print(y.shape)"
   ]
  },
  {
   "cell_type": "code",
   "execution_count": 22,
   "id": "d89a8dd9",
   "metadata": {},
   "outputs": [
    {
     "name": "stdout",
     "output_type": "stream",
     "text": [
      "(72273,)\n",
      "(24091,)\n",
      "(72273,)\n",
      "(24091,)\n"
     ]
    }
   ],
   "source": [
    "# split X and y into training and testing sets \n",
    "from sklearn.model_selection import train_test_split\n",
    "X_train, X_test, y_train, y_test = train_test_split(X, y, random_state=1)\n",
    "print(X_train.shape)\n",
    "print(X_test.shape)\n",
    "print(y_train.shape)\n",
    "print(y_test.shape)"
   ]
  },
  {
   "cell_type": "markdown",
   "id": "eb5f9a05",
   "metadata": {},
   "source": [
    "# Model Building and Evaluation"
   ]
  },
  {
   "cell_type": "markdown",
   "id": "0c6c0ea0",
   "metadata": {},
   "source": [
    "### Count Vectorizer\n",
    "Machine learning algorithms most often take numeric feature vectors as input. Thus, when working with text documents, we need a way to convert each document into a numeric vector."
   ]
  },
  {
   "cell_type": "markdown",
   "id": "a5c00e60",
   "metadata": {},
   "source": [
    "### TFIDF Transform\n",
    "It converts a collection of raw documents to a matrix of TF-IDF features."
   ]
  },
  {
   "cell_type": "markdown",
   "id": "b3bcb5a2",
   "metadata": {},
   "source": [
    "### 1.Logistic Regression"
   ]
  },
  {
   "cell_type": "code",
   "execution_count": 25,
   "id": "2f76f54f",
   "metadata": {},
   "outputs": [
    {
     "name": "stderr",
     "output_type": "stream",
     "text": [
      "C:\\Users\\DELL\\anaconda3\\anaconda nevigator\\lib\\site-packages\\sklearn\\linear_model\\_logistic.py:444: ConvergenceWarning: lbfgs failed to converge (status=1):\n",
      "STOP: TOTAL NO. of ITERATIONS REACHED LIMIT.\n",
      "\n",
      "Increase the number of iterations (max_iter) or scale the data as shown in:\n",
      "    https://scikit-learn.org/stable/modules/preprocessing.html\n",
      "Please also refer to the documentation for alternative solver options:\n",
      "    https://scikit-learn.org/stable/modules/linear_model.html#logistic-regression\n",
      "  n_iter_i = _check_optimize_result(\n"
     ]
    },
    {
     "name": "stdout",
     "output_type": "stream",
     "text": [
      "Accuracy is : 0.9546718691627579\n"
     ]
    }
   ],
   "source": [
    "from sklearn.linear_model import LogisticRegression\n",
    "from sklearn.pipeline import Pipeline\n",
    "from sklearn.feature_extraction.text import TfidfTransformer\n",
    "from sklearn.feature_extraction.text import CountVectorizer, TfidfVectorizer\n",
    "from sklearn.metrics import accuracy_score\n",
    "\n",
    "LR= Pipeline([('vect', CountVectorizer()),\n",
    "               ('tfidf', TfidfTransformer()),\n",
    "               ('clf', LogisticRegression()),\n",
    "              ])\n",
    "\n",
    "LR.fit(X_train,y_train)\n",
    "y_pred1 = LR.predict(X_test)\n",
    "\n",
    "print(f\"Accuracy is : {accuracy_score(y_pred1,y_test)}\")"
   ]
  },
  {
   "cell_type": "markdown",
   "id": "10bd421f",
   "metadata": {},
   "source": [
    "# 2. Decision Tree"
   ]
  },
  {
   "cell_type": "code",
   "execution_count": 26,
   "id": "9138c4de",
   "metadata": {},
   "outputs": [
    {
     "name": "stdout",
     "output_type": "stream",
     "text": [
      "Accuracy is : 0.9542152671121996\n"
     ]
    }
   ],
   "source": [
    "from sklearn.tree import DecisionTreeClassifier\n",
    "\n",
    "DT= Pipeline([('vect', CountVectorizer()),\n",
    "               ('tfidf', TfidfTransformer()),\n",
    "               ('clf', DecisionTreeClassifier()),\n",
    "              ])\n",
    "\n",
    "DT.fit(X_train,y_train)\n",
    "y_pred1 = DT.predict(X_test)\n",
    "\n",
    "print(f\"Accuracy is : {accuracy_score(y_pred1,y_test)}\")"
   ]
  },
  {
   "cell_type": "markdown",
   "id": "22cf09ca",
   "metadata": {},
   "source": [
    "# 3. Random Forest"
   ]
  },
  {
   "cell_type": "code",
   "execution_count": 28,
   "id": "204eeb7b",
   "metadata": {},
   "outputs": [
    {
     "name": "stdout",
     "output_type": "stream",
     "text": [
      "Accuracy is : 0.9586567597858121\n"
     ]
    }
   ],
   "source": [
    "from sklearn.ensemble import RandomForestClassifier\n",
    "\n",
    "RF = Pipeline([('vect', CountVectorizer()),\n",
    "               ('tfidf', TfidfTransformer()),\n",
    "               ('clf', RandomForestClassifier()),\n",
    "              ])\n",
    "\n",
    "RF.fit(X_train,y_train)\n",
    "y_pred1 = RF.predict(X_test)\n",
    "\n",
    "print(f\"Accuracy is : {accuracy_score(y_pred1,y_test)}\")"
   ]
  },
  {
   "cell_type": "markdown",
   "id": "3ffb5e04",
   "metadata": {},
   "source": [
    "+ 'Random Forest' is giving more accuracy than the decision tree and Logistic Regression.so to predict missing values will be using Random forest."
   ]
  },
  {
   "cell_type": "markdown",
   "id": "bfff2158",
   "metadata": {},
   "source": [
    "# Predict Missing Values"
   ]
  },
  {
   "cell_type": "code",
   "execution_count": 29,
   "id": "d3cfae97",
   "metadata": {},
   "outputs": [
    {
     "data": {
      "text/html": [
       "<div>\n",
       "<style scoped>\n",
       "    .dataframe tbody tr th:only-of-type {\n",
       "        vertical-align: middle;\n",
       "    }\n",
       "\n",
       "    .dataframe tbody tr th {\n",
       "        vertical-align: top;\n",
       "    }\n",
       "\n",
       "    .dataframe thead th {\n",
       "        text-align: right;\n",
       "    }\n",
       "</style>\n",
       "<table border=\"1\" class=\"dataframe\">\n",
       "  <thead>\n",
       "    <tr style=\"text-align: right;\">\n",
       "      <th></th>\n",
       "      <th>tweet_text</th>\n",
       "      <th>tweet_intent</th>\n",
       "    </tr>\n",
       "  </thead>\n",
       "  <tbody>\n",
       "    <tr>\n",
       "      <th>96364</th>\n",
       "      <td>ðÿ§™â€â™‚ï¸ wizardia nfts game magicfilled m...</td>\n",
       "      <td>NaN</td>\n",
       "    </tr>\n",
       "    <tr>\n",
       "      <th>96365</th>\n",
       "      <td>daolm dont miss chance win nft worth simple st...</td>\n",
       "      <td>NaN</td>\n",
       "    </tr>\n",
       "    <tr>\n",
       "      <th>96366</th>\n",
       "      <td>zesty faucet bitcoiner making tweet claim free...</td>\n",
       "      <td>NaN</td>\n",
       "    </tr>\n",
       "    <tr>\n",
       "      <th>96367</th>\n",
       "      <td>ðÿ§™â€â™‚ï¸ wizardia nfts game magicfilled m...</td>\n",
       "      <td>NaN</td>\n",
       "    </tr>\n",
       "    <tr>\n",
       "      <th>96368</th>\n",
       "      <td>kavaboynft message letâ€™s talk marketing project</td>\n",
       "      <td>NaN</td>\n",
       "    </tr>\n",
       "  </tbody>\n",
       "</table>\n",
       "</div>"
      ],
      "text/plain": [
       "                                              tweet_text tweet_intent\n",
       "96364  ðÿ§™â€â™‚ï¸ wizardia nfts game magicfilled m...          NaN\n",
       "96365  daolm dont miss chance win nft worth simple st...          NaN\n",
       "96366  zesty faucet bitcoiner making tweet claim free...          NaN\n",
       "96367  ðÿ§™â€â™‚ï¸ wizardia nfts game magicfilled m...          NaN\n",
       "96368  kavaboynft message letâ€™s talk marketing project          NaN"
      ]
     },
     "execution_count": 29,
     "metadata": {},
     "output_type": "execute_result"
    }
   ],
   "source": [
    "tweet_missing.head()"
   ]
  },
  {
   "cell_type": "code",
   "execution_count": 30,
   "id": "69b28865",
   "metadata": {},
   "outputs": [
    {
     "data": {
      "text/plain": [
       "(31089, 2)"
      ]
     },
     "execution_count": 30,
     "metadata": {},
     "output_type": "execute_result"
    }
   ],
   "source": [
    "tweet_missing.shape"
   ]
  },
  {
   "cell_type": "code",
   "execution_count": 32,
   "id": "d07c53b1",
   "metadata": {},
   "outputs": [
    {
     "name": "stderr",
     "output_type": "stream",
     "text": [
      "C:\\Users\\DELL\\AppData\\Local\\Temp\\ipykernel_12660\\3738423306.py:1: SettingWithCopyWarning: \n",
      "A value is trying to be set on a copy of a slice from a DataFrame.\n",
      "Try using .loc[row_indexer,col_indexer] = value instead\n",
      "\n",
      "See the caveats in the documentation: https://pandas.pydata.org/pandas-docs/stable/user_guide/indexing.html#returning-a-view-versus-a-copy\n",
      "  tweet_missing['tweet_intent_RF']=RF.predict(tweet_missing.tweet_text)\n"
     ]
    },
    {
     "data": {
      "text/html": [
       "<div>\n",
       "<style scoped>\n",
       "    .dataframe tbody tr th:only-of-type {\n",
       "        vertical-align: middle;\n",
       "    }\n",
       "\n",
       "    .dataframe tbody tr th {\n",
       "        vertical-align: top;\n",
       "    }\n",
       "\n",
       "    .dataframe thead th {\n",
       "        text-align: right;\n",
       "    }\n",
       "</style>\n",
       "<table border=\"1\" class=\"dataframe\">\n",
       "  <thead>\n",
       "    <tr style=\"text-align: right;\">\n",
       "      <th></th>\n",
       "      <th>tweet_text</th>\n",
       "      <th>tweet_intent</th>\n",
       "      <th>tweet_intent_RF</th>\n",
       "    </tr>\n",
       "  </thead>\n",
       "  <tbody>\n",
       "    <tr>\n",
       "      <th>96364</th>\n",
       "      <td>ðÿ§™â€â™‚ï¸ wizardia nfts game magicfilled m...</td>\n",
       "      <td>NaN</td>\n",
       "      <td>Whitelist</td>\n",
       "    </tr>\n",
       "    <tr>\n",
       "      <th>96365</th>\n",
       "      <td>daolm dont miss chance win nft worth simple st...</td>\n",
       "      <td>NaN</td>\n",
       "      <td>Whitelist</td>\n",
       "    </tr>\n",
       "    <tr>\n",
       "      <th>96366</th>\n",
       "      <td>zesty faucet bitcoiner making tweet claim free...</td>\n",
       "      <td>NaN</td>\n",
       "      <td>Whitelist</td>\n",
       "    </tr>\n",
       "    <tr>\n",
       "      <th>96367</th>\n",
       "      <td>ðÿ§™â€â™‚ï¸ wizardia nfts game magicfilled m...</td>\n",
       "      <td>NaN</td>\n",
       "      <td>Whitelist</td>\n",
       "    </tr>\n",
       "    <tr>\n",
       "      <th>96368</th>\n",
       "      <td>kavaboynft message letâ€™s talk marketing project</td>\n",
       "      <td>NaN</td>\n",
       "      <td>Appreciation</td>\n",
       "    </tr>\n",
       "    <tr>\n",
       "      <th>96369</th>\n",
       "      <td>berylbilici glad stayed nft world keeps growin...</td>\n",
       "      <td>NaN</td>\n",
       "      <td>Appreciation</td>\n",
       "    </tr>\n",
       "    <tr>\n",
       "      <th>96370</th>\n",
       "      <td>check nftnft nftcommuntiy nftplus nftcollector...</td>\n",
       "      <td>NaN</td>\n",
       "      <td>Appreciation</td>\n",
       "    </tr>\n",
       "    <tr>\n",
       "      <th>96371</th>\n",
       "      <td>scnft cool</td>\n",
       "      <td>NaN</td>\n",
       "      <td>Appreciation</td>\n",
       "    </tr>\n",
       "    <tr>\n",
       "      <th>96372</th>\n",
       "      <td>osfnft elonmusk funnyðÿ˜‚</td>\n",
       "      <td>NaN</td>\n",
       "      <td>Appreciation</td>\n",
       "    </tr>\n",
       "    <tr>\n",
       "      <th>96373</th>\n",
       "      <td>realshibadoge revoluzion multidapp ecosystem t...</td>\n",
       "      <td>NaN</td>\n",
       "      <td>Appreciation</td>\n",
       "    </tr>\n",
       "    <tr>\n",
       "      <th>96374</th>\n",
       "      <td>jfx success looks like ðÿ‘‘ king pmxx btcâ â â...</td>\n",
       "      <td>NaN</td>\n",
       "      <td>Whitelist</td>\n",
       "    </tr>\n",
       "    <tr>\n",
       "      <th>96375</th>\n",
       "      <td>ivibrantnft ðÿ˜ðÿ™ðÿ–¤</td>\n",
       "      <td>NaN</td>\n",
       "      <td>Appreciation</td>\n",
       "    </tr>\n",
       "    <tr>\n",
       "      <th>96376</th>\n",
       "      <td>lifesajokenft got dat swag</td>\n",
       "      <td>NaN</td>\n",
       "      <td>Appreciation</td>\n",
       "    </tr>\n",
       "    <tr>\n",
       "      <th>96377</th>\n",
       "      <td>remember beginning never latego get spread mes...</td>\n",
       "      <td>NaN</td>\n",
       "      <td>Community</td>\n",
       "    </tr>\n",
       "    <tr>\n",
       "      <th>96378</th>\n",
       "      <td>nftdirtbagdave somethings odd one canâ€™t quit...</td>\n",
       "      <td>NaN</td>\n",
       "      <td>Appreciation</td>\n",
       "    </tr>\n",
       "    <tr>\n",
       "      <th>96379</th>\n",
       "      <td>beyondearthnft excited see reveal â˜ï¸</td>\n",
       "      <td>NaN</td>\n",
       "      <td>Appreciation</td>\n",
       "    </tr>\n",
       "    <tr>\n",
       "      <th>96380</th>\n",
       "      <td>whaleeverything nakamotogamesðÿ›‘features make...</td>\n",
       "      <td>NaN</td>\n",
       "      <td>Appreciation</td>\n",
       "    </tr>\n",
       "    <tr>\n",
       "      <th>96381</th>\n",
       "      <td>cpyroerc cryptotony cpyro cpyro eth cult caw q...</td>\n",
       "      <td>NaN</td>\n",
       "      <td>Community</td>\n",
       "    </tr>\n",
       "    <tr>\n",
       "      <th>96382</th>\n",
       "      <td>psychedelics saturdays come chill amp share ur...</td>\n",
       "      <td>NaN</td>\n",
       "      <td>Appreciation</td>\n",
       "    </tr>\n",
       "    <tr>\n",
       "      <th>96383</th>\n",
       "      <td>didnt know better id start thinking maybe nfts...</td>\n",
       "      <td>NaN</td>\n",
       "      <td>Appreciation</td>\n",
       "    </tr>\n",
       "  </tbody>\n",
       "</table>\n",
       "</div>"
      ],
      "text/plain": [
       "                                              tweet_text tweet_intent  \\\n",
       "96364  ðÿ§™â€â™‚ï¸ wizardia nfts game magicfilled m...          NaN   \n",
       "96365  daolm dont miss chance win nft worth simple st...          NaN   \n",
       "96366  zesty faucet bitcoiner making tweet claim free...          NaN   \n",
       "96367  ðÿ§™â€â™‚ï¸ wizardia nfts game magicfilled m...          NaN   \n",
       "96368  kavaboynft message letâ€™s talk marketing project          NaN   \n",
       "96369  berylbilici glad stayed nft world keeps growin...          NaN   \n",
       "96370  check nftnft nftcommuntiy nftplus nftcollector...          NaN   \n",
       "96371                                         scnft cool          NaN   \n",
       "96372                          osfnft elonmusk funnyðÿ˜‚          NaN   \n",
       "96373  realshibadoge revoluzion multidapp ecosystem t...          NaN   \n",
       "96374  jfx success looks like ðÿ‘‘ king pmxx btcâ â â...          NaN   \n",
       "96375                           ivibrantnft ðÿ˜ðÿ™ðÿ–¤          NaN   \n",
       "96376                         lifesajokenft got dat swag          NaN   \n",
       "96377  remember beginning never latego get spread mes...          NaN   \n",
       "96378  nftdirtbagdave somethings odd one canâ€™t quit...          NaN   \n",
       "96379           beyondearthnft excited see reveal â˜ï¸          NaN   \n",
       "96380  whaleeverything nakamotogamesðÿ›‘features make...          NaN   \n",
       "96381  cpyroerc cryptotony cpyro cpyro eth cult caw q...          NaN   \n",
       "96382  psychedelics saturdays come chill amp share ur...          NaN   \n",
       "96383  didnt know better id start thinking maybe nfts...          NaN   \n",
       "\n",
       "      tweet_intent_RF  \n",
       "96364       Whitelist  \n",
       "96365       Whitelist  \n",
       "96366       Whitelist  \n",
       "96367       Whitelist  \n",
       "96368    Appreciation  \n",
       "96369    Appreciation  \n",
       "96370    Appreciation  \n",
       "96371    Appreciation  \n",
       "96372    Appreciation  \n",
       "96373    Appreciation  \n",
       "96374       Whitelist  \n",
       "96375    Appreciation  \n",
       "96376    Appreciation  \n",
       "96377       Community  \n",
       "96378    Appreciation  \n",
       "96379    Appreciation  \n",
       "96380    Appreciation  \n",
       "96381       Community  \n",
       "96382    Appreciation  \n",
       "96383    Appreciation  "
      ]
     },
     "execution_count": 32,
     "metadata": {},
     "output_type": "execute_result"
    }
   ],
   "source": [
    "tweet_missing['tweet_intent_RF']=RF.predict(tweet_missing.tweet_text) \n",
    "tweet_missing.head(20)"
   ]
  },
  {
   "cell_type": "markdown",
   "id": "dba566dc",
   "metadata": {},
   "source": [
    "+ Well! We got our missing values"
   ]
  },
  {
   "cell_type": "markdown",
   "id": "8667e78e",
   "metadata": {},
   "source": [
    "# Fill Missing values to our Old Data"
   ]
  },
  {
   "cell_type": "code",
   "execution_count": 33,
   "id": "080d552b",
   "metadata": {},
   "outputs": [
    {
     "data": {
      "text/plain": [
       "tweet_text          0\n",
       "tweet_intent    31089\n",
       "dtype: int64"
      ]
     },
     "execution_count": 33,
     "metadata": {},
     "output_type": "execute_result"
    }
   ],
   "source": [
    "tweet.isnull().sum()"
   ]
  },
  {
   "cell_type": "code",
   "execution_count": 34,
   "id": "b03cddc4",
   "metadata": {},
   "outputs": [],
   "source": [
    "import pandas as pd\n",
    "import numpy as np\n",
    "i=1\n",
    "for x in range(len(tweet.index)):\n",
    "     if tweet.iloc[x].isnull().any():\n",
    "        inpt=[tweet.tweet_text.iloc[x]]\n",
    "        tweet['tweet_intent'].iloc[x]=RF.predict(inpt)"
   ]
  },
  {
   "cell_type": "code",
   "execution_count": 35,
   "id": "ec481e0f",
   "metadata": {},
   "outputs": [
    {
     "data": {
      "text/plain": [
       "tweet_text      0\n",
       "tweet_intent    0\n",
       "dtype: int64"
      ]
     },
     "execution_count": 35,
     "metadata": {},
     "output_type": "execute_result"
    }
   ],
   "source": [
    "tweet.isnull().sum()"
   ]
  },
  {
   "cell_type": "code",
   "execution_count": 36,
   "id": "b17187ea",
   "metadata": {},
   "outputs": [
    {
     "data": {
      "text/html": [
       "<div>\n",
       "<style scoped>\n",
       "    .dataframe tbody tr th:only-of-type {\n",
       "        vertical-align: middle;\n",
       "    }\n",
       "\n",
       "    .dataframe tbody tr th {\n",
       "        vertical-align: top;\n",
       "    }\n",
       "\n",
       "    .dataframe thead th {\n",
       "        text-align: right;\n",
       "    }\n",
       "</style>\n",
       "<table border=\"1\" class=\"dataframe\">\n",
       "  <thead>\n",
       "    <tr style=\"text-align: right;\">\n",
       "      <th></th>\n",
       "      <th>tweet_text</th>\n",
       "      <th>tweet_intent</th>\n",
       "    </tr>\n",
       "  </thead>\n",
       "  <tbody>\n",
       "    <tr>\n",
       "      <th>127448</th>\n",
       "      <td>jason company universe solving weve got columb...</td>\n",
       "      <td>[Community]</td>\n",
       "    </tr>\n",
       "    <tr>\n",
       "      <th>127449</th>\n",
       "      <td>bosotokyo many get rekt nft</td>\n",
       "      <td>[Appreciation]</td>\n",
       "    </tr>\n",
       "    <tr>\n",
       "      <th>127450</th>\n",
       "      <td>kibainuworld hodlofficial koacombat cliffclass...</td>\n",
       "      <td>[Whitelist]</td>\n",
       "    </tr>\n",
       "    <tr>\n",
       "      <th>127451</th>\n",
       "      <td>unleashednft love job</td>\n",
       "      <td>[Appreciation]</td>\n",
       "    </tr>\n",
       "    <tr>\n",
       "      <th>127452</th>\n",
       "      <td>shillronin unleashednft proof</td>\n",
       "      <td>[Done]</td>\n",
       "    </tr>\n",
       "  </tbody>\n",
       "</table>\n",
       "</div>"
      ],
      "text/plain": [
       "                                               tweet_text    tweet_intent\n",
       "127448  jason company universe solving weve got columb...     [Community]\n",
       "127449                        bosotokyo many get rekt nft  [Appreciation]\n",
       "127450  kibainuworld hodlofficial koacombat cliffclass...     [Whitelist]\n",
       "127451                              unleashednft love job  [Appreciation]\n",
       "127452                      shillronin unleashednft proof          [Done]"
      ]
     },
     "execution_count": 36,
     "metadata": {},
     "output_type": "execute_result"
    }
   ],
   "source": [
    "tweet.tail()"
   ]
  },
  {
   "cell_type": "markdown",
   "id": "34e8ee5c",
   "metadata": {},
   "source": [
    "# Save Updated Data"
   ]
  },
  {
   "cell_type": "code",
   "execution_count": 37,
   "id": "0c109c2e",
   "metadata": {},
   "outputs": [],
   "source": [
    "tweet.to_csv(\"Tweet_Updated.csv\",index=False) "
   ]
  },
  {
   "cell_type": "code",
   "execution_count": null,
   "id": "6b381389",
   "metadata": {},
   "outputs": [],
   "source": []
  }
 ],
 "metadata": {
  "kernelspec": {
   "display_name": "Python 3 (ipykernel)",
   "language": "python",
   "name": "python3"
  },
  "language_info": {
   "codemirror_mode": {
    "name": "ipython",
    "version": 3
   },
   "file_extension": ".py",
   "mimetype": "text/x-python",
   "name": "python",
   "nbconvert_exporter": "python",
   "pygments_lexer": "ipython3",
   "version": "3.9.12"
  }
 },
 "nbformat": 4,
 "nbformat_minor": 5
}
